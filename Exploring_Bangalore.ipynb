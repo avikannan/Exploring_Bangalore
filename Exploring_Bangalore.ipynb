{
 "cells": [
  {
   "cell_type": "markdown",
   "metadata": {},
   "source": [
    "# Introduction\n",
    "\n",
    " **This notebook is part of the assignment **The Battle of Neighborhoods**\n",
    "\n",
    "## Case Study  \n",
    "\n",
    "I plan to start a German restaurant in the city of Bangalore , India. For which i would like to like to know the neighbourhoods with most restaurants and breweries. Proximity to Brewery is crucial as i plan to source the beer and not produce self. \n",
    "\n",
    "\n",
    "#### 1. Scrape the wikipedia to get the Neighbourhoods of Bangalore   \n",
    "\"https://en.wikipedia.org/wiki/List_of_neighbourhoods_in_Bangalore\"  \n",
    "\n",
    "#### 2. Explore the Neighbourhoods   \n",
    "**to identify places that has Breweries & Restaurants within their top 5 venues and their ratings using Foursquare location data** \n",
    "\n",
    "#### 3. Cluster the Breweries using K Mean\n",
    "\n",
    "In general the 4 parts of my analysis is listed below in the **Table of Contents**\n"
   ]
  },
  {
   "cell_type": "markdown",
   "metadata": {},
   "source": [
    "### Table of Contents\n",
    "\n",
    "<div class=\"alert alert-block alert-info\" style=\"margin-top: 20px\">\n",
    "\n",
    "<font size = 3>\n",
    "\n",
    "1. <a href=\"#item1\">PART I : Scrapping data from Wikipedia into a dataframe</a>\n",
    "\n",
    "2. <a href=\"#item2\">PART II : Enhance dataframe with geographical coordinates</a>\n",
    "\n",
    "3. <a href=\"#item3\">PART III : Explore Bangalore</a>\n",
    "    \n",
    "4. <a href=\"#item4\">PART IV : Examing the clusters individually</a>\n",
    "\n",
    "\n",
    "</font>\n",
    "</div>"
   ]
  },
  {
   "cell_type": "code",
   "execution_count": null,
   "metadata": {},
   "outputs": [],
   "source": []
  }
 ],
 "metadata": {
  "kernelspec": {
   "display_name": "Python",
   "language": "python",
   "name": "conda-env-python-py"
  },
  "language_info": {
   "codemirror_mode": {
    "name": "ipython",
    "version": 3
   },
   "file_extension": ".py",
   "mimetype": "text/x-python",
   "name": "python",
   "nbconvert_exporter": "python",
   "pygments_lexer": "ipython3",
   "version": "3.6.10"
  }
 },
 "nbformat": 4,
 "nbformat_minor": 4
}
